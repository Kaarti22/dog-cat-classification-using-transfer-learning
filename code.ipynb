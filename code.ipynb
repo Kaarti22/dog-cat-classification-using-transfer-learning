{
 "cells": [
  {
   "cell_type": "code",
   "execution_count": 5,
   "metadata": {},
   "outputs": [
    {
     "name": "stdout",
     "output_type": "stream",
     "text": [
      "Kaggle configuration file set up successfully.\n"
     ]
    }
   ],
   "source": [
    "import os\n",
    "import shutil\n",
    "\n",
    "kaggle_dir = os.path.expanduser(\"./kaggle\")\n",
    "kaggle_json = \"./kaggle.json\"\n",
    "\n",
    "os.makedirs(kaggle_dir, exist_ok=True)\n",
    "\n",
    "shutil.copy(kaggle_json, kaggle_dir)\n",
    "\n",
    "os.chmod(os.path.join(kaggle_dir, \"kaggle.json\"), 0o600)\n",
    "\n",
    "print(\"Kaggle configuration file set up successfully.\")"
   ]
  },
  {
   "cell_type": "code",
   "execution_count": null,
   "metadata": {},
   "outputs": [],
   "source": []
  }
 ],
 "metadata": {
  "kernelspec": {
   "display_name": "env",
   "language": "python",
   "name": "python3"
  },
  "language_info": {
   "codemirror_mode": {
    "name": "ipython",
    "version": 3
   },
   "file_extension": ".py",
   "mimetype": "text/x-python",
   "name": "python",
   "nbconvert_exporter": "python",
   "pygments_lexer": "ipython3",
   "version": "3.10.11"
  }
 },
 "nbformat": 4,
 "nbformat_minor": 2
}
